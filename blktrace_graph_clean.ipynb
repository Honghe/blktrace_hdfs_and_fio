version https://git-lfs.github.com/spec/v1
oid sha256:827bd10567e8fd172ea7a9e69606148eceef82fb321a990a6e8b4b10dd03b437
size 24802
